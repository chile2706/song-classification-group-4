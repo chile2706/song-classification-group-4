{
 "cells": [
  {
   "cell_type": "code",
   "execution_count": null,
   "id": "8e5ab933",
   "metadata": {},
   "outputs": [],
   "source": []
  },
  {
   "cell_type": "code",
   "execution_count": 1,
   "id": "0c25e942",
   "metadata": {},
   "outputs": [],
   "source": [
    "import pandas as pd\n",
    "from sklearn.model_selection import train_test_split\n",
    "from sklearn.preprocessing import StandardScaler\n",
    "from sklearn.svm import SVC\n",
    "\n",
    "# Load the dataset\n",
    "data = pd.read_csv(\"spotify_songs.csv\")\n",
    "#data = data.sample(frac=.5)\n",
    "# Select relevant features\n",
    "features = ['danceability', 'energy', 'key', 'loudness', 'mode', \n",
    "            'speechiness', 'acousticness', 'instrumentalness', \n",
    "            'liveness', 'valence', 'tempo', 'duration_ms']\n",
    "X = data[features]\n",
    "y = data['playlist_genre']  # Assuming you have a target column for classification\n",
    "\n",
    "X_train, X_test, y_train, y_test = train_test_split(X, y, test_size=0.2, random_state=42)\n"
   ]
  },
  {
   "cell_type": "code",
   "execution_count": 2,
   "id": "f2445bba",
   "metadata": {},
   "outputs": [
    {
     "data": {
      "text/plain": [
       "[<matplotlib.lines.Line2D at 0x17ce832e2e0>]"
      ]
     },
     "execution_count": 2,
     "metadata": {},
     "output_type": "execute_result"
    },
    {
     "data": {
      "image/png": "[encoded data removed]",
      "text/plain": [
       "<Figure size 432x288 with 1 Axes>"
      ]
     },
     "metadata": {
      "needs_background": "light"
     },
     "output_type": "display_data"
    }
   ],
   "source": [
    "from sklearn.decomposition import PCA\n",
    "import numpy as np\n",
    "import matplotlib.pyplot as plt\n",
    "pca = PCA()\n",
    "pca.fit(X_train)\n",
    "cumsum = np.cumsum(pca.explained_variance_ratio_)\n",
    "plt.xlabel()\n",
    "plt.plot(cumsum)"
   ]
  },
  {
   "cell_type": "markdown",
   "id": "f037d2c3",
   "metadata": {},
   "source": [
    "# Normal Linear SVM"
   ]
  },
  {
   "cell_type": "code",
   "execution_count": 4,
   "id": "c257efe0",
   "metadata": {},
   "outputs": [
    {
     "name": "stdout",
     "output_type": "stream",
     "text": [
      "Test Accuracy of SVM: 0.45530683721638493\n",
      "Train Accuracy of SVM: 0.4649737302977233\n"
     ]
    }
   ],
   "source": [
    "import pandas as pd\n",
    "import numpy as np\n",
    "from sklearn import svm\n",
    "from sklearn import datasets\n",
    "from sklearn.model_selection import train_test_split, StratifiedKFold\n",
    "spotify_df = pd.read_csv('spotify_songs.csv')\n",
    "\n",
    "X = np.array(spotify_df[spotify_df.columns[:-2]])\n",
    "y = np.array(spotify_df[spotify_df.columns[-1]])\n",
    "\n",
    "X_train, X_test, y_train, y_test = train_test_split(X, y, test_size=0.2,\n",
    "random_state=17)\n",
    "C = 1.0\n",
    "\n",
    "\n",
    "model_svc = svm.SVC(kernel='linear', C=C)\n",
    "model_svc.fit(X_train, y_train)\n",
    "\n",
    "#Predict using the SVM model\n",
    "#predictions = model_svc.predict(X_train)\n",
    "# Evaluate the predictions\n",
    "te_accuracy = model_svc.score(X_test, y_test)\n",
    "tr_accuracy = model_svc.score(X_train, y_train)\n",
    "print(\"Test Accuracy of SVM:\", te_accuracy)\n",
    "print(\"Train Accuracy of SVM:\", tr_accuracy)\n"
   ]
  },
  {
   "cell_type": "markdown",
   "id": "d5227051",
   "metadata": {},
   "source": [
    "# Normal RBF SVM"
   ]
  },
  {
   "cell_type": "code",
   "execution_count": 5,
   "id": "ff3b7412",
   "metadata": {},
   "outputs": [
    {
     "name": "stdout",
     "output_type": "stream",
     "text": [
      "Test Accuracy of SVM: 0.30973047053449065\n",
      "Train Accuracy of SVM: 0.31748267722531026\n"
     ]
    }
   ],
   "source": [
    "import pandas as pd\n",
    "import numpy as np\n",
    "from sklearn import svm\n",
    "from sklearn import datasets\n",
    "from sklearn.model_selection import train_test_split, StratifiedKFold\n",
    "spotify_df = pd.read_csv('spotify_songs.csv')\n",
    "\n",
    "X = np.array(spotify_df[spotify_df.columns[:-2]])\n",
    "y = np.array(spotify_df[spotify_df.columns[-1]])\n",
    "\n",
    "X_train, X_test, y_train, y_test = train_test_split(X, y, test_size=0.2,\n",
    "random_state=17)\n",
    "C = 1.0\n",
    "\n",
    "\n",
    "model_svc = svm.SVC(kernel='rbf', C=C)\n",
    "model_svc.fit(X_train, y_train)\n",
    "\n",
    "#Predict using the SVM model\n",
    "#predictions = model_svc.predict(X_train)\n",
    "# Evaluate the predictions\n",
    "te_accuracy = model_svc.score(X_test, y_test)\n",
    "tr_accuracy = model_svc.score(X_train, y_train)\n",
    "print(\"Test Accuracy of SVM:\", te_accuracy)\n",
    "print(\"Train Accuracy of SVM:\", tr_accuracy)\n"
   ]
  },
  {
   "cell_type": "markdown",
   "id": "37052893",
   "metadata": {},
   "source": [
    "# Scaled Linear SVM"
   ]
  },
  {
   "cell_type": "code",
   "execution_count": 7,
   "id": "61edaded",
   "metadata": {},
   "outputs": [
    {
     "name": "stdout",
     "output_type": "stream",
     "text": [
      "Test Accuracy: 0.4659661946094107\n",
      "Train Accuracy: 0.4639838574583111\n"
     ]
    }
   ],
   "source": [
    "import pandas as pd\n",
    "from sklearn.model_selection import train_test_split\n",
    "from sklearn.preprocessing import StandardScaler\n",
    "from sklearn.svm import SVC\n",
    "\n",
    "# Load the dataset\n",
    "spotify_df = pd.read_csv('spotify_songs.csv')\n",
    "\n",
    "X = np.array(spotify_df[spotify_df.columns[:-2]])\n",
    "y = np.array(spotify_df[spotify_df.columns[-1]])\n",
    "\n",
    "X_train, X_test, y_train, y_test = train_test_split(X, y, test_size=0.2, random_state=42)\n",
    "\n",
    "# Scale the features\n",
    "scaler = StandardScaler()\n",
    "X_train_scaled = scaler.fit_transform(X_train)\n",
    "X_test_scaled = scaler.transform(X_test)\n",
    "\n",
    "# Initialize SVC\n",
    "model_svc = SVC(kernel='linear')\n",
    "\n",
    "# Fit the model\n",
    "model_svc.fit(X_train_scaled, y_train)\n",
    "\n",
    "# Calculate accuracy on the test set\n",
    "test_accuracy = model_svc.score(X_test_scaled, y_test)\n",
    "train_accuracy = model_svc.score(X_train_scaled, y_train)\n",
    "print(\"Test Accuracy:\", test_accuracy)\n",
    "print(\"Train Accuracy:\", train_accuracy)\n"
   ]
  },
  {
   "cell_type": "markdown",
   "id": "3bb23b6e",
   "metadata": {},
   "source": [
    "# Scaled RBF SVM"
   ]
  },
  {
   "cell_type": "code",
   "execution_count": 8,
   "id": "63515c4d",
   "metadata": {},
   "outputs": [
    {
     "name": "stdout",
     "output_type": "stream",
     "text": [
      "Test Accuracy: 0.5186538754377951\n",
      "Train Accuracy: 0.5425645320947232\n"
     ]
    }
   ],
   "source": [
    "import pandas as pd\n",
    "from sklearn.model_selection import train_test_split\n",
    "from sklearn.preprocessing import StandardScaler\n",
    "from sklearn.svm import SVC\n",
    "\n",
    "# Load the dataset\n",
    "spotify_df = pd.read_csv('spotify_songs.csv')\n",
    "\n",
    "X = np.array(spotify_df[spotify_df.columns[:-2]])\n",
    "y = np.array(spotify_df[spotify_df.columns[-1]])\n",
    "\n",
    "\n",
    "X_train, X_test, y_train, y_test = train_test_split(X, y, test_size=0.2, random_state=42)\n",
    "\n",
    "# Scale the features\n",
    "scaler = StandardScaler()\n",
    "X_train_scaled = scaler.fit_transform(X_train)\n",
    "X_test_scaled = scaler.transform(X_test)\n",
    "\n",
    "# Initialize SVC\n",
    "rbf_svc_scaled = SVC(kernel='rbf')\n",
    "\n",
    "# Fit the model\n",
    "rbf_svc_scaled.fit(X_train_scaled, y_train)\n",
    "\n",
    "# Calculate accuracy on the test set\n",
    "te_accuracy = rbf_svc_scaled.score(X_test_scaled, y_test)\n",
    "tr_accuracy = rbf_svc_scaled.score(X_train_scaled, y_train)\n",
    "print(\"Test Accuracy:\", te_accuracy)\n",
    "print(\"Train Accuracy:\", tr_accuracy)"
   ]
  },
  {
   "cell_type": "markdown",
   "id": "b9a30129",
   "metadata": {},
   "source": [
    "# PCA Scaled Lin SVM "
   ]
  },
  {
   "cell_type": "code",
   "execution_count": 9,
   "id": "8f07aee8",
   "metadata": {},
   "outputs": [
    {
     "name": "stdout",
     "output_type": "stream",
     "text": [
      "(32833, 11)\n",
      "Test Accuracy:  0.2559768539668037\n",
      "Train Accuracy:  0.2604127008299703\n"
     ]
    }
   ],
   "source": [
    "import pandas as pd\n",
    "from sklearn.model_selection import train_test_split\n",
    "from sklearn.preprocessing import StandardScaler\n",
    "from sklearn.decomposition import PCA\n",
    "from sklearn.svm import SVC\n",
    "\n",
    "spotify_df = pd.read_csv('spotify_songs.csv')\n",
    "\n",
    "X = np.array(spotify_df[spotify_df.columns[:-2]])\n",
    "y = np.array(spotify_df[spotify_df.columns[-1]])\n",
    "\n",
    "\n",
    "X_scaled = scaler.fit_transform(X)\n",
    "X = np.array(X)\n",
    "print(X.shape)\n",
    "# Apply dimensionality reduction to visualize in 2D space\n",
    "pca = PCA(n_components=2)\n",
    "X = pca.fit_transform(X_scaled)  # X_scaled is your scaled feature matrix\n",
    "\n",
    "# Split the data into training and testing sets\n",
    "X_train, X_test, y_train, y_test = train_test_split(X, y, test_size=0.2, random_state=42)\n",
    "\n",
    "# Scale the features\n",
    "scaler = StandardScaler()\n",
    "X_train_scaled = scaler.fit_transform(X_train)\n",
    "X_test_scaled = scaler.transform(X_test)\n",
    "\n",
    "# Initialize SVC\n",
    "model_svc_lin_scaled_pca = SVC(kernel='linear')\n",
    "\n",
    "# Fit the model\n",
    "model_svc_lin_scaled_pca.fit(X_train_scaled, y_train)\n",
    "\n",
    "# Calculate accuracy on the test set\n",
    "te_accuracy = model_svc_lin_scaled_pca.score(X_test_scaled, y_test)\n",
    "tr_accuracy = model_svc_lin_scaled_pca.score(X_train_scaled, y_train)\n",
    "print(\"Test Accuracy: \", te_accuracy)\n",
    "print(\"Train Accuracy: \", tr_accuracy)"
   ]
  },
  {
   "cell_type": "markdown",
   "id": "f75c705e",
   "metadata": {},
   "source": [
    "# PCA Scaled RBF SVM"
   ]
  },
  {
   "cell_type": "code",
   "execution_count": 12,
   "id": "79ec4582",
   "metadata": {},
   "outputs": [
    {
     "name": "stdout",
     "output_type": "stream",
     "text": [
      "(32833, 11)\n",
      "Test Accuracy: 0.3293741434444952\n",
      "Train Accuracy: 0.3303510241376685\n"
     ]
    }
   ],
   "source": [
    "import pandas as pd\n",
    "from sklearn.model_selection import train_test_split\n",
    "from sklearn.preprocessing import StandardScaler\n",
    "from sklearn.decomposition import PCA\n",
    "from sklearn.svm import SVC\n",
    "\n",
    "# Load the dataset\n",
    "spotify_df = pd.read_csv('spotify_songs.csv')\n",
    "\n",
    "X = np.array(spotify_df[spotify_df.columns[:-2]])\n",
    "y = np.array(spotify_df[spotify_df.columns[-1]])\n",
    "\n",
    "\n",
    "X_scaled = scaler.fit_transform(X)\n",
    "X = np.array(X)\n",
    "print(X.shape)\n",
    "# Apply dimensionality reduction to visualize in 2D space\n",
    "pca = PCA(n_components=2)\n",
    "X = pca.fit_transform(X_scaled)  # X_scaled is your scaled feature matrix\n",
    "\n",
    "# Split the data into training and testing sets\n",
    "X_train, X_test, y_train, y_test = train_test_split(X, y, test_size=0.2, random_state=42)\n",
    "\n",
    "# Scale the features\n",
    "scaler = StandardScaler()\n",
    "X_train_scaled = scaler.fit_transform(X_train)\n",
    "X_test_scaled = scaler.transform(X_test)\n",
    "\n",
    "# Initialize SVC\n",
    "model_svc_rbf_scaled_pca = SVC(kernel='rbf')\n",
    "\n",
    "# Fit the model\n",
    "model_svc_rbf_scaled_pca.fit(X_train_scaled, y_train)\n",
    "\n",
    "# Calculate accuracy on the test set\n",
    "te_accuracy = model_svc_rbf_scaled_pca.score(X_test_scaled, y_test)\n",
    "tr_accuracy = model_svc_rbf_scaled_pca.score(X_train_scaled, y_train)\n",
    "print(\"Test Accuracy:\", te_accuracy)\n",
    "print(\"Train Accuracy:\", tr_accuracy)"
   ]
  }
 ],
 "metadata": {
  "kernelspec": {
   "display_name": "Python 3",
   "language": "python",
   "name": "python3"
  },
  "language_info": {
   "codemirror_mode": {
    "name": "ipython",
    "version": 3
   },
   "file_extension": ".py",
   "mimetype": "text/x-python",
   "name": "python",
   "nbconvert_exporter": "python",
   "pygments_lexer": "ipython3",
   "version": "3.8.8"
  }
 },
 "nbformat": 4,
 "nbformat_minor": 5
}
